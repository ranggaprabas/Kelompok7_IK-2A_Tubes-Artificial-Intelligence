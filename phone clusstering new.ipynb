{
 "cells": [
  {
   "cell_type": "code",
   "execution_count": 1,
   "metadata": {},
   "outputs": [],
   "source": [
    "import pandas as pd\n",
    "import numpy as np\n",
    "import matplotlib.pyplot as plt\n",
    "from sklearn.preprocessing import StandardScaler\n",
    "from sklearn.cluster import KMeans, AgglomerativeClustering, DBSCAN, MeanShift\n",
    "from sklearn.metrics import silhouette_score\n"
   ]
  },
  {
   "cell_type": "code",
   "execution_count": 2,
   "metadata": {},
   "outputs": [
    {
     "data": {
      "text/html": [
       "<div>\n",
       "<style scoped>\n",
       "    .dataframe tbody tr th:only-of-type {\n",
       "        vertical-align: middle;\n",
       "    }\n",
       "\n",
       "    .dataframe tbody tr th {\n",
       "        vertical-align: top;\n",
       "    }\n",
       "\n",
       "    .dataframe thead th {\n",
       "        text-align: right;\n",
       "    }\n",
       "</style>\n",
       "<table border=\"1\" class=\"dataframe\">\n",
       "  <thead>\n",
       "    <tr style=\"text-align: right;\">\n",
       "      <th></th>\n",
       "      <th>Unnamed: 0</th>\n",
       "      <th>brand_name</th>\n",
       "      <th>model_name</th>\n",
       "      <th>os</th>\n",
       "      <th>popularity</th>\n",
       "      <th>best_price</th>\n",
       "      <th>lowest_price</th>\n",
       "      <th>highest_price</th>\n",
       "      <th>sellers_amount</th>\n",
       "      <th>screen_size</th>\n",
       "      <th>memory_size</th>\n",
       "      <th>battery_size</th>\n",
       "      <th>release_date</th>\n",
       "    </tr>\n",
       "  </thead>\n",
       "  <tbody>\n",
       "    <tr>\n",
       "      <th>0</th>\n",
       "      <td>0</td>\n",
       "      <td>ALCATEL</td>\n",
       "      <td>1 1/8GB Bluish Black (5033D-2JALUAA)</td>\n",
       "      <td>Android</td>\n",
       "      <td>422</td>\n",
       "      <td>1690.0</td>\n",
       "      <td>1529.0</td>\n",
       "      <td>1819.0</td>\n",
       "      <td>36</td>\n",
       "      <td>5.00</td>\n",
       "      <td>8.0</td>\n",
       "      <td>2000.0</td>\n",
       "      <td>10-2020</td>\n",
       "    </tr>\n",
       "    <tr>\n",
       "      <th>1</th>\n",
       "      <td>1</td>\n",
       "      <td>ALCATEL</td>\n",
       "      <td>1 5033D 1/16GB Volcano Black (5033D-2LALUAF)</td>\n",
       "      <td>Android</td>\n",
       "      <td>323</td>\n",
       "      <td>1803.0</td>\n",
       "      <td>1659.0</td>\n",
       "      <td>2489.0</td>\n",
       "      <td>36</td>\n",
       "      <td>5.00</td>\n",
       "      <td>16.0</td>\n",
       "      <td>2000.0</td>\n",
       "      <td>9-2020</td>\n",
       "    </tr>\n",
       "    <tr>\n",
       "      <th>2</th>\n",
       "      <td>2</td>\n",
       "      <td>ALCATEL</td>\n",
       "      <td>1 5033D 1/16GB Volcano Black (5033D-2LALUAF)</td>\n",
       "      <td>Android</td>\n",
       "      <td>299</td>\n",
       "      <td>1803.0</td>\n",
       "      <td>1659.0</td>\n",
       "      <td>2489.0</td>\n",
       "      <td>36</td>\n",
       "      <td>5.00</td>\n",
       "      <td>16.0</td>\n",
       "      <td>2000.0</td>\n",
       "      <td>9-2020</td>\n",
       "    </tr>\n",
       "    <tr>\n",
       "      <th>3</th>\n",
       "      <td>3</td>\n",
       "      <td>ALCATEL</td>\n",
       "      <td>1 5033D 1/16GB Volcano Black (5033D-2LALUAF)</td>\n",
       "      <td>Android</td>\n",
       "      <td>287</td>\n",
       "      <td>1803.0</td>\n",
       "      <td>1659.0</td>\n",
       "      <td>2489.0</td>\n",
       "      <td>36</td>\n",
       "      <td>5.00</td>\n",
       "      <td>16.0</td>\n",
       "      <td>2000.0</td>\n",
       "      <td>9-2020</td>\n",
       "    </tr>\n",
       "    <tr>\n",
       "      <th>4</th>\n",
       "      <td>4</td>\n",
       "      <td>Nokia</td>\n",
       "      <td>1.3 1/16GB Charcoal</td>\n",
       "      <td>Android</td>\n",
       "      <td>1047</td>\n",
       "      <td>1999.0</td>\n",
       "      <td>NaN</td>\n",
       "      <td>NaN</td>\n",
       "      <td>10</td>\n",
       "      <td>5.71</td>\n",
       "      <td>16.0</td>\n",
       "      <td>3000.0</td>\n",
       "      <td>4-2020</td>\n",
       "    </tr>\n",
       "  </tbody>\n",
       "</table>\n",
       "</div>"
      ],
      "text/plain": [
       "   Unnamed: 0 brand_name                                    model_name  \\\n",
       "0           0    ALCATEL          1 1/8GB Bluish Black (5033D-2JALUAA)   \n",
       "1           1    ALCATEL  1 5033D 1/16GB Volcano Black (5033D-2LALUAF)   \n",
       "2           2    ALCATEL  1 5033D 1/16GB Volcano Black (5033D-2LALUAF)   \n",
       "3           3    ALCATEL  1 5033D 1/16GB Volcano Black (5033D-2LALUAF)   \n",
       "4           4      Nokia                           1.3 1/16GB Charcoal   \n",
       "\n",
       "        os  popularity  best_price  lowest_price  highest_price  \\\n",
       "0  Android         422      1690.0        1529.0         1819.0   \n",
       "1  Android         323      1803.0        1659.0         2489.0   \n",
       "2  Android         299      1803.0        1659.0         2489.0   \n",
       "3  Android         287      1803.0        1659.0         2489.0   \n",
       "4  Android        1047      1999.0           NaN            NaN   \n",
       "\n",
       "   sellers_amount  screen_size  memory_size  battery_size release_date  \n",
       "0              36         5.00          8.0        2000.0      10-2020  \n",
       "1              36         5.00         16.0        2000.0       9-2020  \n",
       "2              36         5.00         16.0        2000.0       9-2020  \n",
       "3              36         5.00         16.0        2000.0       9-2020  \n",
       "4              10         5.71         16.0        3000.0       4-2020  "
      ]
     },
     "execution_count": 2,
     "metadata": {},
     "output_type": "execute_result"
    }
   ],
   "source": [
    "data = pd.read_csv(\"phones_data.csv\")\n",
    "data.head()"
   ]
  },
  {
   "cell_type": "code",
   "execution_count": 3,
   "metadata": {},
   "outputs": [
    {
     "name": "stdout",
     "output_type": "stream",
     "text": [
      "        Unnamed: 0   popularity    best_price  lowest_price  highest_price  \\\n",
      "count  1224.000000  1224.000000   1224.000000    964.000000     964.000000   \n",
      "mean    611.500000   612.500000   7941.206699   7716.018672    9883.410788   \n",
      "std     353.482673   353.482673   8891.836260   8560.959059   11514.936818   \n",
      "min       0.000000     1.000000    214.000000    198.000000     229.000000   \n",
      "25%     305.750000   306.750000   2599.750000   2399.000000    2887.000000   \n",
      "50%     611.500000   612.500000   4728.000000   4574.000000    5325.500000   \n",
      "75%     917.250000   918.250000   9323.000000   9262.250000   12673.750000   \n",
      "max    1223.000000  1224.000000  56082.000000  49999.000000   69999.000000   \n",
      "\n",
      "       sellers_amount  screen_size  memory_size  battery_size  \n",
      "count     1224.000000  1222.000000  1112.000000   1214.000000  \n",
      "mean        16.743464     5.394378    95.700059   3608.201812  \n",
      "std         20.597006     1.476991   111.922576   1668.268774  \n",
      "min          1.000000     1.400000     0.003200    460.000000  \n",
      "25%          2.000000     5.162500    32.000000   2900.000000  \n",
      "50%          8.000000     6.000000    64.000000   3687.000000  \n",
      "75%         26.000000     6.400000   128.000000   4400.000000  \n",
      "max        125.000000     8.100000  1000.000000  18800.000000  \n"
     ]
    }
   ],
   "source": [
    "# Ringkasan statistik untuk data numerikal\n",
    "summary_stats = data.describe()\n",
    "\n",
    "# Tampilkan ringkasan statistik\n",
    "print(summary_stats)"
   ]
  },
  {
   "cell_type": "code",
   "execution_count": 4,
   "metadata": {},
   "outputs": [
    {
     "data": {
      "text/plain": [
       "Unnamed: 0          int64\n",
       "brand_name         object\n",
       "model_name         object\n",
       "os                 object\n",
       "popularity          int64\n",
       "best_price        float64\n",
       "lowest_price      float64\n",
       "highest_price     float64\n",
       "sellers_amount      int64\n",
       "screen_size       float64\n",
       "memory_size       float64\n",
       "battery_size      float64\n",
       "release_date       object\n",
       "dtype: object"
      ]
     },
     "execution_count": 4,
     "metadata": {},
     "output_type": "execute_result"
    }
   ],
   "source": [
    "data.dtypes"
   ]
  },
  {
   "cell_type": "code",
   "execution_count": 5,
   "metadata": {},
   "outputs": [
    {
     "data": {
      "text/html": [
       "<div>\n",
       "<style scoped>\n",
       "    .dataframe tbody tr th:only-of-type {\n",
       "        vertical-align: middle;\n",
       "    }\n",
       "\n",
       "    .dataframe tbody tr th {\n",
       "        vertical-align: top;\n",
       "    }\n",
       "\n",
       "    .dataframe thead th {\n",
       "        text-align: right;\n",
       "    }\n",
       "</style>\n",
       "<table border=\"1\" class=\"dataframe\">\n",
       "  <thead>\n",
       "    <tr style=\"text-align: right;\">\n",
       "      <th></th>\n",
       "      <th>Unnamed: 0</th>\n",
       "      <th>popularity</th>\n",
       "      <th>best_price</th>\n",
       "      <th>lowest_price</th>\n",
       "      <th>highest_price</th>\n",
       "      <th>sellers_amount</th>\n",
       "      <th>screen_size</th>\n",
       "      <th>memory_size</th>\n",
       "      <th>battery_size</th>\n",
       "    </tr>\n",
       "  </thead>\n",
       "  <tbody>\n",
       "    <tr>\n",
       "      <th>count</th>\n",
       "      <td>1224.000000</td>\n",
       "      <td>1224.000000</td>\n",
       "      <td>1224.000000</td>\n",
       "      <td>964.000000</td>\n",
       "      <td>964.000000</td>\n",
       "      <td>1224.000000</td>\n",
       "      <td>1222.000000</td>\n",
       "      <td>1112.000000</td>\n",
       "      <td>1214.000000</td>\n",
       "    </tr>\n",
       "    <tr>\n",
       "      <th>mean</th>\n",
       "      <td>611.500000</td>\n",
       "      <td>612.500000</td>\n",
       "      <td>7941.206699</td>\n",
       "      <td>7716.018672</td>\n",
       "      <td>9883.410788</td>\n",
       "      <td>16.743464</td>\n",
       "      <td>5.394378</td>\n",
       "      <td>95.700059</td>\n",
       "      <td>3608.201812</td>\n",
       "    </tr>\n",
       "    <tr>\n",
       "      <th>std</th>\n",
       "      <td>353.482673</td>\n",
       "      <td>353.482673</td>\n",
       "      <td>8891.836260</td>\n",
       "      <td>8560.959059</td>\n",
       "      <td>11514.936818</td>\n",
       "      <td>20.597006</td>\n",
       "      <td>1.476991</td>\n",
       "      <td>111.922576</td>\n",
       "      <td>1668.268774</td>\n",
       "    </tr>\n",
       "    <tr>\n",
       "      <th>min</th>\n",
       "      <td>0.000000</td>\n",
       "      <td>1.000000</td>\n",
       "      <td>214.000000</td>\n",
       "      <td>198.000000</td>\n",
       "      <td>229.000000</td>\n",
       "      <td>1.000000</td>\n",
       "      <td>1.400000</td>\n",
       "      <td>0.003200</td>\n",
       "      <td>460.000000</td>\n",
       "    </tr>\n",
       "    <tr>\n",
       "      <th>25%</th>\n",
       "      <td>305.750000</td>\n",
       "      <td>306.750000</td>\n",
       "      <td>2599.750000</td>\n",
       "      <td>2399.000000</td>\n",
       "      <td>2887.000000</td>\n",
       "      <td>2.000000</td>\n",
       "      <td>5.162500</td>\n",
       "      <td>32.000000</td>\n",
       "      <td>2900.000000</td>\n",
       "    </tr>\n",
       "    <tr>\n",
       "      <th>50%</th>\n",
       "      <td>611.500000</td>\n",
       "      <td>612.500000</td>\n",
       "      <td>4728.000000</td>\n",
       "      <td>4574.000000</td>\n",
       "      <td>5325.500000</td>\n",
       "      <td>8.000000</td>\n",
       "      <td>6.000000</td>\n",
       "      <td>64.000000</td>\n",
       "      <td>3687.000000</td>\n",
       "    </tr>\n",
       "    <tr>\n",
       "      <th>75%</th>\n",
       "      <td>917.250000</td>\n",
       "      <td>918.250000</td>\n",
       "      <td>9323.000000</td>\n",
       "      <td>9262.250000</td>\n",
       "      <td>12673.750000</td>\n",
       "      <td>26.000000</td>\n",
       "      <td>6.400000</td>\n",
       "      <td>128.000000</td>\n",
       "      <td>4400.000000</td>\n",
       "    </tr>\n",
       "    <tr>\n",
       "      <th>max</th>\n",
       "      <td>1223.000000</td>\n",
       "      <td>1224.000000</td>\n",
       "      <td>56082.000000</td>\n",
       "      <td>49999.000000</td>\n",
       "      <td>69999.000000</td>\n",
       "      <td>125.000000</td>\n",
       "      <td>8.100000</td>\n",
       "      <td>1000.000000</td>\n",
       "      <td>18800.000000</td>\n",
       "    </tr>\n",
       "  </tbody>\n",
       "</table>\n",
       "</div>"
      ],
      "text/plain": [
       "        Unnamed: 0   popularity    best_price  lowest_price  highest_price  \\\n",
       "count  1224.000000  1224.000000   1224.000000    964.000000     964.000000   \n",
       "mean    611.500000   612.500000   7941.206699   7716.018672    9883.410788   \n",
       "std     353.482673   353.482673   8891.836260   8560.959059   11514.936818   \n",
       "min       0.000000     1.000000    214.000000    198.000000     229.000000   \n",
       "25%     305.750000   306.750000   2599.750000   2399.000000    2887.000000   \n",
       "50%     611.500000   612.500000   4728.000000   4574.000000    5325.500000   \n",
       "75%     917.250000   918.250000   9323.000000   9262.250000   12673.750000   \n",
       "max    1223.000000  1224.000000  56082.000000  49999.000000   69999.000000   \n",
       "\n",
       "       sellers_amount  screen_size  memory_size  battery_size  \n",
       "count     1224.000000  1222.000000  1112.000000   1214.000000  \n",
       "mean        16.743464     5.394378    95.700059   3608.201812  \n",
       "std         20.597006     1.476991   111.922576   1668.268774  \n",
       "min          1.000000     1.400000     0.003200    460.000000  \n",
       "25%          2.000000     5.162500    32.000000   2900.000000  \n",
       "50%          8.000000     6.000000    64.000000   3687.000000  \n",
       "75%         26.000000     6.400000   128.000000   4400.000000  \n",
       "max        125.000000     8.100000  1000.000000  18800.000000  "
      ]
     },
     "execution_count": 5,
     "metadata": {},
     "output_type": "execute_result"
    }
   ],
   "source": [
    "data.describe()"
   ]
  },
  {
   "cell_type": "code",
   "execution_count": 6,
   "metadata": {},
   "outputs": [
    {
     "data": {
      "text/plain": [
       "Unnamed: 0          0\n",
       "brand_name          0\n",
       "model_name          0\n",
       "os                197\n",
       "popularity          0\n",
       "best_price          0\n",
       "lowest_price      260\n",
       "highest_price     260\n",
       "sellers_amount      0\n",
       "screen_size         2\n",
       "memory_size       112\n",
       "battery_size       10\n",
       "release_date        0\n",
       "dtype: int64"
      ]
     },
     "execution_count": 6,
     "metadata": {},
     "output_type": "execute_result"
    }
   ],
   "source": [
    "data.isnull().sum()"
   ]
  },
  {
   "cell_type": "code",
   "execution_count": 7,
   "metadata": {},
   "outputs": [],
   "source": [
    "# Mengganti nilai yang hilang pada kolom \"battery_size\" dengan nilai 0\n",
    "data['battery_size'].fillna(0, inplace=True)"
   ]
  },
  {
   "cell_type": "code",
   "execution_count": 8,
   "metadata": {},
   "outputs": [
    {
     "data": {
      "text/plain": [
       "Unnamed: 0          0\n",
       "brand_name          0\n",
       "model_name          0\n",
       "os                197\n",
       "popularity          0\n",
       "best_price          0\n",
       "lowest_price      260\n",
       "highest_price     260\n",
       "sellers_amount      0\n",
       "screen_size         2\n",
       "memory_size       112\n",
       "battery_size        0\n",
       "release_date        0\n",
       "dtype: int64"
      ]
     },
     "execution_count": 8,
     "metadata": {},
     "output_type": "execute_result"
    }
   ],
   "source": [
    "## missing value pada baterry sudah diberikan nilai 0\n",
    "data.isnull().sum()"
   ]
  },
  {
   "cell_type": "code",
   "execution_count": 9,
   "metadata": {},
   "outputs": [
    {
     "data": {
      "text/plain": [
       "0"
      ]
     },
     "execution_count": 9,
     "metadata": {},
     "output_type": "execute_result"
    }
   ],
   "source": [
    "data.duplicated().sum()"
   ]
  },
  {
   "cell_type": "code",
   "execution_count": 10,
   "metadata": {},
   "outputs": [],
   "source": [
    "# Langkah 1: Persiapan Data\n",
    "data = pd.read_csv('phones_data.csv')\n"
   ]
  },
  {
   "cell_type": "code",
   "execution_count": 11,
   "metadata": {},
   "outputs": [],
   "source": [
    "# Langkah 2: Pilih Fitur yang Diperlukan\n",
    "X = data[['best_price', 'battery_size']]\n",
    "\n",
    "scaler = StandardScaler()\n",
    "X_scaled = scaler.fit_transform(X)\n"
   ]
  },
  {
   "cell_type": "code",
   "execution_count": 13,
   "metadata": {},
   "outputs": [],
   "source": [
    "# Langkah 3: Mengisi Missing Values\n",
    "X.fillna(X.median(), inplace=True)\n"
   ]
  },
  {
   "cell_type": "code",
   "execution_count": 14,
   "metadata": {},
   "outputs": [],
   "source": [
    "# Langkah 4: Scaling Data\n",
    "scaler = StandardScaler()\n",
    "X_scaled = scaler.fit_transform(X)"
   ]
  },
  {
   "cell_type": "code",
   "execution_count": 15,
   "metadata": {},
   "outputs": [
    {
     "data": {
      "image/png": "[encoded data removed]",
      "text/plain": [
       "<Figure size 432x288 with 1 Axes>"
      ]
     },
     "metadata": {
      "needs_background": "light"
     },
     "output_type": "display_data"
    }
   ],
   "source": [
    "# Langkah 5: Visualisasi Data\n",
    "plt.scatter(X_scaled[:, 0], X_scaled[:, 1], alpha=0.5)\n",
    "plt.xlabel('Best Price')\n",
    "plt.ylabel('Battery Size')\n",
    "plt.title('Data Distribution')\n",
    "plt.show()"
   ]
  },
  {
   "cell_type": "code",
   "execution_count": 16,
   "metadata": {},
   "outputs": [],
   "source": [
    "# A. K-Means Clustering\n",
    "kmeans = KMeans(n_clusters=3, random_state=42)\n",
    "kmeans_labels = kmeans.fit_predict(X_scaled)\n",
    "data['kmeans_cluster'] = kmeans_labels\n"
   ]
  },
  {
   "cell_type": "code",
   "execution_count": 17,
   "metadata": {},
   "outputs": [],
   "source": [
    "# B. Agglomerative Clustering\n",
    "agg_cluster = AgglomerativeClustering(n_clusters=3)\n",
    "agg_labels = agg_cluster.fit_predict(X_scaled)\n",
    "data['agg_cluster'] = agg_labels"
   ]
  },
  {
   "cell_type": "code",
   "execution_count": 18,
   "metadata": {},
   "outputs": [],
   "source": [
    "# C. DBSCAN Clustering\n",
    "dbscan = DBSCAN(eps=0.5, min_samples=5)\n",
    "dbscan_labels = dbscan.fit_predict(X_scaled)\n",
    "data['dbscan_cluster'] = dbscan_labels\n"
   ]
  },
  {
   "cell_type": "code",
   "execution_count": 19,
   "metadata": {},
   "outputs": [],
   "source": [
    "\n",
    "# D. Mean Shift Clustering\n",
    "meanshift = MeanShift()\n",
    "meanshift_labels = meanshift.fit_predict(X_scaled)\n",
    "data['meanshift_cluster'] = meanshift_labels"
   ]
  },
  {
   "cell_type": "code",
   "execution_count": 20,
   "metadata": {},
   "outputs": [
    {
     "data": {
      "image/png": "[encoded data removed]",
      "text/plain": [
       "<Figure size 1152x288 with 4 Axes>"
      ]
     },
     "metadata": {
      "needs_background": "light"
     },
     "output_type": "display_data"
    }
   ],
   "source": [
    "# Langkah 7: Analisis Hasil\n",
    "plt.figure(figsize=(16, 4))\n",
    "\n",
    "plt.subplot(1, 4, 1)\n",
    "plt.scatter(data['best_price'], data['battery_size'], c=data['kmeans_cluster'], cmap='rainbow')\n",
    "plt.xlabel('Best Price')\n",
    "plt.ylabel('Battery Size')\n",
    "plt.title('K-Means Clustering')\n",
    "\n",
    "plt.subplot(1, 4, 2)\n",
    "plt.scatter(data['best_price'], data['battery_size'], c=data['agg_cluster'], cmap='rainbow')\n",
    "plt.xlabel('Best Price')\n",
    "plt.ylabel('Battery Size')\n",
    "plt.title('Agglomerative Clustering')\n",
    "\n",
    "plt.subplot(1, 4, 3)\n",
    "plt.scatter(data['best_price'], data['battery_size'], c=data['dbscan_cluster'], cmap='rainbow')\n",
    "plt.xlabel('Best Price')\n",
    "plt.ylabel('Battery Size')\n",
    "plt.title('DBSCAN Clustering')\n",
    "\n",
    "plt.subplot(1, 4, 4)\n",
    "plt.scatter(data['best_price'], data['battery_size'], c=data['meanshift_cluster'], cmap='rainbow')\n",
    "plt.xlabel('Best Price')\n",
    "plt.ylabel('Battery Size')\n",
    "plt.title('Mean Shift Clustering')\n",
    "\n",
    "plt.show()"
   ]
  },
  {
   "cell_type": "code",
   "execution_count": 21,
   "metadata": {},
   "outputs": [
    {
     "name": "stdout",
     "output_type": "stream",
     "text": [
      "Silhouette Score - K-Means: 0.44006690863458825\n",
      "Silhouette Score - Agglomerative Clustering: 0.4407405257501889\n",
      "Silhouette Score - DBSCAN: 0.6120827455657174\n",
      "Silhouette Score - Mean Shift: 0.6011842481930119\n"
     ]
    }
   ],
   "source": [
    "# Langkah 8: Evaluasi Clustering\n",
    "kmeans_silhouette = silhouette_score(X_scaled, kmeans_labels)\n",
    "agg_silhouette = silhouette_score(X_scaled, agg_labels)\n",
    "dbscan_silhouette = silhouette_score(X_scaled, dbscan_labels)\n",
    "meanshift_silhouette = silhouette_score(X_scaled, meanshift_labels)\n",
    "\n",
    "print(\"Silhouette Score - K-Means:\", kmeans_silhouette)\n",
    "print(\"Silhouette Score - Agglomerative Clustering:\", agg_silhouette)\n",
    "print(\"Silhouette Score - DBSCAN:\", dbscan_silhouette)\n",
    "print(\"Silhouette Score - Mean Shift:\", meanshift_silhouette)"
   ]
  }
 ],
 "metadata": {
  "kernelspec": {
   "display_name": "base",
   "language": "python",
   "name": "python3"
  },
  "language_info": {
   "codemirror_mode": {
    "name": "ipython",
    "version": 3
   },
   "file_extension": ".py",
   "mimetype": "text/x-python",
   "name": "python",
   "nbconvert_exporter": "python",
   "pygments_lexer": "ipython3",
   "version": "3.9.7"
  },
  "orig_nbformat": 4
 },
 "nbformat": 4,
 "nbformat_minor": 2
}
